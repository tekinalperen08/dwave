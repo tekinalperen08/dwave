{
 "cells": [
  {
   "cell_type": "markdown",
   "id": "34baf83a",
   "metadata": {},
   "source": [
    "<table width = \"100%\">\n",
    "  <tr style=\"background-color:white;\">\n",
    "    <!-- QWorld Logo -->\n",
    "    <td style=\"text-align:left;width:200px;\"> \n",
    "        <a href=\"https://qworld.net/\" target=\"_blank\"><img src=\"../images/QWorld.png\"> </a></td>\n",
    "    <td style=\"text-align:right;vertical-align:bottom;font-size:16px;\"> \n",
    "        Prepared by Özlem Salehi </a></td>    \n",
    "</table>\n",
    "<hr>"
   ]
  },
  {
   "cell_type": "markdown",
   "id": "097fdeb6",
   "metadata": {},
   "source": [
    "# <font color=\"blue\"> Solutions for </font> Simulated Annealing"
   ]
  },
  {
   "cell_type": "markdown",
   "id": "existing-cylinder",
   "metadata": {},
   "source": [
    "### Task 1\n",
    "\n",
    "Find out what assignment of $x_1$ and $x_2$ minimizes the following objective function using simulated annealing. Set number of reads to 1000.\n",
    "\n",
    "$$5x_1 + 7x_1 x_2 - 3x_2 + 2$$"
   ]
  },
  {
   "cell_type": "markdown",
   "id": "e5326d64",
   "metadata": {},
   "source": [
    "### Solution"
   ]
  },
  {
   "cell_type": "code",
   "execution_count": 5,
   "id": "c23120a9",
   "metadata": {},
   "outputs": [
    {
     "ename": "TypeError",
     "evalue": "expected input vartype to be one of: Vartype.SPIN, 'SPIN', {-1, 1}, Vartype.BINARY, 'BINARY', or {0, 1}; received {('x1', 'x2'): 7}.",
     "output_type": "error",
     "traceback": [
      "\u001b[1;31m---------------------------------------------------------------------------\u001b[0m",
      "\u001b[1;31mTypeError\u001b[0m                                 Traceback (most recent call last)",
      "Cell \u001b[1;32mIn[5], line 8\u001b[0m\n\u001b[0;32m      5\u001b[0m offset \u001b[38;5;241m=\u001b[39m \u001b[38;5;241m2\u001b[39m\n\u001b[0;32m      6\u001b[0m vartype \u001b[38;5;241m=\u001b[39m \u001b[38;5;124m'\u001b[39m\u001b[38;5;124mBINARY\u001b[39m\u001b[38;5;124m'\u001b[39m\n\u001b[1;32m----> 8\u001b[0m bqm \u001b[38;5;241m=\u001b[39m \u001b[43mBQM\u001b[49m\u001b[43m(\u001b[49m\u001b[43mlinear\u001b[49m\u001b[43m,\u001b[49m\u001b[43m \u001b[49m\u001b[43mquadratic\u001b[49m\u001b[43m)\u001b[49m\n\u001b[0;32m      9\u001b[0m \u001b[38;5;66;03m# sampleset = sampler.sample(bqm, num_reads=1000)\u001b[39;00m\n\u001b[0;32m     10\u001b[0m \u001b[38;5;66;03m# print(sampleset.first)\u001b[39;00m\n",
      "File \u001b[1;32m~\\.conda\\envs\\quantum\\lib\\site-packages\\dimod\\binary\\binary_quadratic_model.py:191\u001b[0m, in \u001b[0;36mBinaryQuadraticModel.__init__\u001b[1;34m(self, offset, vartype, dtype, *args)\u001b[0m\n\u001b[0;32m    189\u001b[0m         \u001b[38;5;28mself\u001b[39m\u001b[38;5;241m.\u001b[39m_init_bqm(args[\u001b[38;5;241m0\u001b[39m], vartype\u001b[38;5;241m=\u001b[39margs[\u001b[38;5;241m1\u001b[39m], dtype\u001b[38;5;241m=\u001b[39mdtype)\n\u001b[0;32m    190\u001b[0m     \u001b[38;5;28;01melse\u001b[39;00m:\n\u001b[1;32m--> 191\u001b[0m         \u001b[38;5;28;43mself\u001b[39;49m\u001b[38;5;241;43m.\u001b[39;49m\u001b[43m_init_components\u001b[49m\u001b[43m(\u001b[49m\u001b[43m[\u001b[49m\u001b[43m]\u001b[49m\u001b[43m,\u001b[49m\u001b[43m \u001b[49m\u001b[43margs\u001b[49m\u001b[43m[\u001b[49m\u001b[38;5;241;43m0\u001b[39;49m\u001b[43m]\u001b[49m\u001b[43m,\u001b[49m\u001b[43m \u001b[49m\u001b[38;5;241;43m0.0\u001b[39;49m\u001b[43m,\u001b[49m\u001b[43m \u001b[49m\u001b[43margs\u001b[49m\u001b[43m[\u001b[49m\u001b[38;5;241;43m1\u001b[39;49m\u001b[43m]\u001b[49m\u001b[43m,\u001b[49m\u001b[43m \u001b[49m\u001b[43mdtype\u001b[49m\u001b[38;5;241;43m=\u001b[39;49m\u001b[43mdtype\u001b[49m\u001b[43m)\u001b[49m\n\u001b[0;32m    192\u001b[0m \u001b[38;5;28;01melif\u001b[39;00m \u001b[38;5;28mlen\u001b[39m(args) \u001b[38;5;241m==\u001b[39m \u001b[38;5;241m3\u001b[39m:\n\u001b[0;32m    193\u001b[0m     \u001b[38;5;66;03m# BQM(linear, quadratic, vartype)\u001b[39;00m\n\u001b[0;32m    194\u001b[0m     \u001b[38;5;28mself\u001b[39m\u001b[38;5;241m.\u001b[39m_init_components(args[\u001b[38;5;241m0\u001b[39m], args[\u001b[38;5;241m1\u001b[39m], \u001b[38;5;241m0.0\u001b[39m, args[\u001b[38;5;241m2\u001b[39m], dtype\u001b[38;5;241m=\u001b[39mdtype)\n",
      "File \u001b[1;32m~\\.conda\\envs\\quantum\\lib\\site-packages\\dimod\\binary\\binary_quadratic_model.py:222\u001b[0m, in \u001b[0;36mBinaryQuadraticModel._init_components\u001b[1;34m(self, linear, quadratic, offset, vartype, dtype)\u001b[0m\n\u001b[0;32m    221\u001b[0m \u001b[38;5;28;01mdef\u001b[39;00m \u001b[38;5;21m_init_components\u001b[39m(\u001b[38;5;28mself\u001b[39m, linear, quadratic, offset, vartype, dtype):\n\u001b[1;32m--> 222\u001b[0m     \u001b[38;5;28;43mself\u001b[39;49m\u001b[38;5;241;43m.\u001b[39;49m\u001b[43m_init_empty\u001b[49m\u001b[43m(\u001b[49m\u001b[43mvartype\u001b[49m\u001b[43m,\u001b[49m\u001b[43m \u001b[49m\u001b[43mdtype\u001b[49m\u001b[43m)\u001b[49m\n\u001b[0;32m    224\u001b[0m     \u001b[38;5;28mself\u001b[39m\u001b[38;5;241m.\u001b[39moffset \u001b[38;5;241m=\u001b[39m offset\n\u001b[0;32m    226\u001b[0m     vartype \u001b[38;5;241m=\u001b[39m \u001b[38;5;28mself\u001b[39m\u001b[38;5;241m.\u001b[39mvartype\n",
      "File \u001b[1;32m~\\.conda\\envs\\quantum\\lib\\site-packages\\dimod\\binary\\binary_quadratic_model.py:274\u001b[0m, in \u001b[0;36mBinaryQuadraticModel._init_empty\u001b[1;34m(self, vartype, dtype)\u001b[0m\n\u001b[0;32m    272\u001b[0m \u001b[38;5;28;01mdef\u001b[39;00m \u001b[38;5;21m_init_empty\u001b[39m(\u001b[38;5;28mself\u001b[39m, vartype, dtype):\n\u001b[0;32m    273\u001b[0m     dtype \u001b[38;5;241m=\u001b[39m \u001b[38;5;28mself\u001b[39m\u001b[38;5;241m.\u001b[39mDEFAULT_DTYPE \u001b[38;5;28;01mif\u001b[39;00m dtype \u001b[38;5;129;01mis\u001b[39;00m \u001b[38;5;28;01mNone\u001b[39;00m \u001b[38;5;28;01melse\u001b[39;00m dtype\n\u001b[1;32m--> 274\u001b[0m     \u001b[38;5;28mself\u001b[39m\u001b[38;5;241m.\u001b[39mdata \u001b[38;5;241m=\u001b[39m \u001b[38;5;28;43mtype\u001b[39;49m\u001b[43m(\u001b[49m\u001b[38;5;28;43mself\u001b[39;49m\u001b[43m)\u001b[49m\u001b[38;5;241;43m.\u001b[39;49m\u001b[43m_DATA_CLASSES\u001b[49m\u001b[43m[\u001b[49m\u001b[43mnp\u001b[49m\u001b[38;5;241;43m.\u001b[39;49m\u001b[43mdtype\u001b[49m\u001b[43m(\u001b[49m\u001b[43mdtype\u001b[49m\u001b[43m)\u001b[49m\u001b[43m]\u001b[49m\u001b[43m(\u001b[49m\u001b[43mvartype\u001b[49m\u001b[43m)\u001b[49m\n",
      "File \u001b[1;32m~\\.conda\\envs\\quantum\\lib\\site-packages\\dimod\\binary\\cybqm\\cybqm_template.pyx.pxi:60\u001b[0m, in \u001b[0;36mdimod.binary.cybqm.cybqm_float64.cyBQM_template.__init__\u001b[1;34m()\u001b[0m\n",
      "File \u001b[1;32m~\\.conda\\envs\\quantum\\lib\\site-packages\\dimod\\binary\\cybqm\\cybqm_template.pyx.pxi:255\u001b[0m, in \u001b[0;36mdimod.binary.cybqm.cybqm_float64.cyBQM_template.change_vartype\u001b[1;34m()\u001b[0m\n",
      "File \u001b[1;32m~\\.conda\\envs\\quantum\\lib\\site-packages\\dimod\\vartypes.py:219\u001b[0m, in \u001b[0;36mas_vartype\u001b[1;34m(vartype, extended)\u001b[0m\n\u001b[0;32m    217\u001b[0m         vartype \u001b[38;5;241m=\u001b[39m Vartype(\u001b[38;5;28mfrozenset\u001b[39m(vartype))\n\u001b[0;32m    218\u001b[0m     \u001b[38;5;28;01mexcept\u001b[39;00m \u001b[38;5;167;01mValueError\u001b[39;00m:\n\u001b[1;32m--> 219\u001b[0m         \u001b[38;5;28;01mraise\u001b[39;00m _vartype_miss(vartype, extended) \u001b[38;5;28;01mfrom\u001b[39;00m \u001b[38;5;28;01mNone\u001b[39;00m\n\u001b[0;32m    220\u001b[0m \u001b[38;5;28;01melse\u001b[39;00m:\n\u001b[0;32m    221\u001b[0m     \u001b[38;5;28;01mraise\u001b[39;00m _vartype_miss(vartype, extended)\n",
      "\u001b[1;31mTypeError\u001b[0m: expected input vartype to be one of: Vartype.SPIN, 'SPIN', {-1, 1}, Vartype.BINARY, 'BINARY', or {0, 1}; received {('x1', 'x2'): 7}."
     ]
    }
   ],
   "source": [
    "from dimod import BQM\n",
    "\n",
    "linear = {'x1': 5, 'x2': -3}\n",
    "quadratic = {('x1', 'x2'): 7}\n",
    "offset = 2\n",
    "vartype = 'BINARY'\n",
    "\n",
    "bqm = BQM(linear, quadratic)\n",
    "# sampleset = sampler.sample(bqm, num_reads=1000)\n",
    "# print(sampleset.first)"
   ]
  },
  {
   "cell_type": "markdown",
   "id": "9df26f4a",
   "metadata": {},
   "source": [
    "$x_1=0$ and $x_2=1$ minimizes the objective function. "
   ]
  },
  {
   "cell_type": "markdown",
   "id": "3928ec84",
   "metadata": {},
   "source": [
    "### Task 2\n",
    "\n",
    "Use simulated annealing to find out the assignment that gives the minimum energy for the following QUBO dictionary. Set number of reads to 1000."
   ]
  },
  {
   "cell_type": "markdown",
   "id": "7b9cad27",
   "metadata": {},
   "source": [
    "### Solution"
   ]
  },
  {
   "cell_type": "code",
   "execution_count": 5,
   "id": "602bbac9",
   "metadata": {},
   "outputs": [],
   "source": [
    "Q_dict = {\n",
    "    (\"x1\", \"x1\"): 3,\n",
    "    (\"x2\", \"x2\"): -7,\n",
    "    (\"x3\", \"x3\"): 11,\n",
    "    (\"x4\", \"x4\"): -1,\n",
    "    (\"x1\", \"x2\"): 9,\n",
    "    (\"x1\", \"x3\"): 1,\n",
    "    (\"x2\", \"x3\"): 2,\n",
    "    (\"x3\", \"x4\"): 8,\n",
    "}"
   ]
  },
  {
   "cell_type": "code",
   "execution_count": 6,
   "id": "81c87c48",
   "metadata": {},
   "outputs": [
    {
     "name": "stdout",
     "output_type": "stream",
     "text": [
      "Sample(sample={'x1': 0, 'x2': 1, 'x3': 0, 'x4': 1}, energy=-8.0, num_occurrences=1)\n"
     ]
    }
   ],
   "source": [
    "sampleset = sampler.sample_qubo(Q_dict, num_reads=1000)\n",
    "print(sampleset.first)"
   ]
  },
  {
   "cell_type": "markdown",
   "id": "ab149e4b",
   "metadata": {},
   "source": [
    "### Task 3\n",
    "\n",
    "Use simulated annealing to find out the assignment that gives the minimum energy for the following Ising Model defined through `h` and `J` parameters. Set number of reads to 1000. \n",
    "\n"
   ]
  },
  {
   "cell_type": "code",
   "execution_count": 7,
   "id": "444f349a",
   "metadata": {},
   "outputs": [],
   "source": [
    "h = {'s1': 3, 's2': 1,'s3': 4, 's4': 2}\n",
    "J = {('s1', 's2'): 4, ('s1', 's3'): 1, ('s1', 's4'): 6, ('s3', 's4'): 7}"
   ]
  },
  {
   "cell_type": "code",
   "execution_count": 8,
   "id": "7491de76",
   "metadata": {},
   "outputs": [
    {
     "name": "stdout",
     "output_type": "stream",
     "text": [
      "Sample(sample={'s1': -1, 's2': 1, 's3': -1, 's4': 1}, energy=-20.0, num_occurrences=1)\n"
     ]
    }
   ],
   "source": [
    "sampleset = sampler.sample_ising(h, J, num_reads=1000)\n",
    "print(sampleset.first)"
   ]
  }
 ],
 "metadata": {
  "kernelspec": {
   "display_name": "Python 3 (ipykernel)",
   "language": "python",
   "name": "python3"
  },
  "language_info": {
   "codemirror_mode": {
    "name": "ipython",
    "version": 3
   },
   "file_extension": ".py",
   "mimetype": "text/x-python",
   "name": "python",
   "nbconvert_exporter": "python",
   "pygments_lexer": "ipython3",
   "version": "3.8.19"
  }
 },
 "nbformat": 4,
 "nbformat_minor": 5
}
